{
 "cells": [
  {
   "cell_type": "code",
   "execution_count": 33,
   "id": "e15744d4",
   "metadata": {},
   "outputs": [],
   "source": [
    "# Create a practice set of random latitude and longitude combinations.\n",
    "x = [25.12903645, 25.92017388, 26.62509167, -59.98969384, 37.30571269]\n",
    "y = [-67.59741259, 11.09532135, 74.84233102, -76.89176677, -61.13376282]\n",
    "coordinates = zip(x, y)"
   ]
  },
  {
   "cell_type": "code",
   "execution_count": 34,
   "id": "5c6ca30b",
   "metadata": {},
   "outputs": [
    {
     "name": "stdout",
     "output_type": "stream",
     "text": [
      "25.12903645 -67.59741259\n",
      "25.92017388 11.09532135\n",
      "26.62509167 74.84233102\n",
      "-59.98969384 -76.89176677\n",
      "37.30571269 -61.13376282\n"
     ]
    }
   ],
   "source": [
    "# Use the tuple() function to display the latitude and longitude combinations.\n",
    "for coordinate in coordinates:\n",
    "    print(coordinate[0], coordinate[1])"
   ]
  },
  {
   "cell_type": "code",
   "execution_count": 35,
   "id": "03f4436a",
   "metadata": {},
   "outputs": [],
   "source": [
    "# Use the citipy module to determine city based on latitude and longitude.\n",
    "from citipy import citipy"
   ]
  },
  {
   "cell_type": "code",
   "execution_count": 36,
   "id": "139c201e",
   "metadata": {},
   "outputs": [],
   "source": [
    "# Use the tuple() function to display the latitude and longitude combinations.\n",
    "for coordinate in coordinates:\n",
    "    print(citipy.nearest_city(coordinate[0], coordinate[1]).city_name,\n",
    "          citipy.nearest_city(coordinate[0], coordinate[1]).country_code)"
   ]
  },
  {
   "cell_type": "code",
   "execution_count": 37,
   "id": "d62d3f21",
   "metadata": {},
   "outputs": [],
   "source": [
    "# Import the requests library.\n",
    "import requests\n",
    "\n",
    "# Import the API key.\n",
    "from config import weather_api_key"
   ]
  },
  {
   "cell_type": "code",
   "execution_count": 21,
   "id": "24ca0333",
   "metadata": {},
   "outputs": [
    {
     "name": "stdout",
     "output_type": "stream",
     "text": [
      "http://api.openweathermap.org/data/2.5/weather?units=Imperial&APPID=256ee0b3ebaa9dbc2475490bde03c158\n"
     ]
    }
   ],
   "source": [
    "# Starting URL for Weather Map API Call.\n",
    "url = \"http://api.openweathermap.org/data/2.5/weather?units=Imperial&APPID=\" + weather_api_key\n",
    "#print(url)"
   ]
  },
  {
   "cell_type": "code",
   "execution_count": 39,
   "id": "044b31cd",
   "metadata": {},
   "outputs": [],
   "source": [
    "# Create an endpoint URL for a city.\n",
    "city_url = url + \"&q=\" + \"Boston\"\n",
    "#print(city_url)"
   ]
  },
  {
   "cell_type": "code",
   "execution_count": 40,
   "id": "a801de7f",
   "metadata": {},
   "outputs": [
    {
     "data": {
      "text/plain": [
       "<Response [200]>"
      ]
     },
     "execution_count": 40,
     "metadata": {},
     "output_type": "execute_result"
    }
   ],
   "source": [
    "# Make a 'Get' request for the city weather.\n",
    "city_weather = requests.get(city_url)\n",
    "city_weather"
   ]
  },
  {
   "cell_type": "code",
   "execution_count": 41,
   "id": "1e45f857",
   "metadata": {},
   "outputs": [
    {
     "data": {
      "text/plain": [
       "<Response [404]>"
      ]
     },
     "execution_count": 41,
     "metadata": {},
     "output_type": "execute_result"
    }
   ],
   "source": [
    "# Create an endpoint URL for a city.\n",
    "city_url = url + \"&q=\" + \"Bston\"\n",
    "city_weather = requests.get(city_url)\n",
    "city_weather"
   ]
  },
  {
   "cell_type": "code",
   "execution_count": 42,
   "id": "41d8d183",
   "metadata": {},
   "outputs": [
    {
     "data": {
      "text/plain": [
       "<Response [200]>"
      ]
     },
     "execution_count": 42,
     "metadata": {},
     "output_type": "execute_result"
    }
   ],
   "source": [
    "# Create an endpoint URL for a city.\n",
    "city_url = url + \"&q=\" + \"Boston\"\n",
    "city_weather = requests.get(city_url)\n",
    "city_weather"
   ]
  },
  {
   "cell_type": "code",
   "execution_count": 43,
   "id": "3274d33d",
   "metadata": {},
   "outputs": [
    {
     "data": {
      "text/plain": [
       "'{\"coord\":{\"lon\":-71.0598,\"lat\":42.3584},\"weather\":[{\"id\":804,\"main\":\"Clouds\",\"description\":\"overcast clouds\",\"icon\":\"04n\"}],\"base\":\"stations\",\"main\":{\"temp\":34.02,\"feels_like\":28.63,\"temp_min\":29.01,\"temp_max\":37.63,\"pressure\":1015,\"humidity\":63},\"visibility\":10000,\"wind\":{\"speed\":5.99,\"deg\":335,\"gust\":15.99},\"clouds\":{\"all\":94},\"dt\":1643151395,\"sys\":{\"type\":2,\"id\":2013408,\"country\":\"US\",\"sunrise\":1643112259,\"sunset\":1643147313},\"timezone\":-18000,\"id\":4930956,\"name\":\"Boston\",\"cod\":200}'"
      ]
     },
     "execution_count": 43,
     "metadata": {},
     "output_type": "execute_result"
    }
   ],
   "source": [
    "# Get the text of the 'Get' request.\n",
    "city_weather.text"
   ]
  },
  {
   "cell_type": "code",
   "execution_count": 44,
   "id": "ff11eaae",
   "metadata": {},
   "outputs": [
    {
     "data": {
      "text/plain": [
       "{'coord': {'lon': -71.0598, 'lat': 42.3584},\n",
       " 'weather': [{'id': 804,\n",
       "   'main': 'Clouds',\n",
       "   'description': 'overcast clouds',\n",
       "   'icon': '04n'}],\n",
       " 'base': 'stations',\n",
       " 'main': {'temp': 34.02,\n",
       "  'feels_like': 28.63,\n",
       "  'temp_min': 29.01,\n",
       "  'temp_max': 37.63,\n",
       "  'pressure': 1015,\n",
       "  'humidity': 63},\n",
       " 'visibility': 10000,\n",
       " 'wind': {'speed': 5.99, 'deg': 335, 'gust': 15.99},\n",
       " 'clouds': {'all': 94},\n",
       " 'dt': 1643151395,\n",
       " 'sys': {'type': 2,\n",
       "  'id': 2013408,\n",
       "  'country': 'US',\n",
       "  'sunrise': 1643112259,\n",
       "  'sunset': 1643147313},\n",
       " 'timezone': -18000,\n",
       " 'id': 4930956,\n",
       " 'name': 'Boston',\n",
       " 'cod': 200}"
      ]
     },
     "execution_count": 44,
     "metadata": {},
     "output_type": "execute_result"
    }
   ],
   "source": [
    "# Get the JSON text of the 'Get' request.\n",
    "city_weather.json()"
   ]
  },
  {
   "cell_type": "code",
   "execution_count": 45,
   "id": "7f3df582",
   "metadata": {},
   "outputs": [
    {
     "name": "stdout",
     "output_type": "stream",
     "text": [
      "City Weather found.\n"
     ]
    }
   ],
   "source": [
    "# Create an endpoint URL for a city.\n",
    "city_url = url + \"&q=\" + \"Boston\"\n",
    "city_weather = requests.get(city_url)\n",
    "if city_weather.status_code == 200:\n",
    "    print(f\"City Weather found.\")\n",
    "else:\n",
    "    print(f\"City weather not found.\")"
   ]
  },
  {
   "cell_type": "code",
   "execution_count": 46,
   "id": "8c18ad95",
   "metadata": {},
   "outputs": [
    {
     "name": "stdout",
     "output_type": "stream",
     "text": [
      "City weather not found.\n"
     ]
    }
   ],
   "source": [
    "# Create an endpoint URL for a city.\n",
    "city_url = url + \"&q=\" + \"Bston\"\n",
    "city_weather = requests.get(city_url)\n",
    "if city_weather.status_code == 200:\n",
    "    print(f\"City Weather found.\")\n",
    "else:\n",
    "    print(f\"City weather not found.\")"
   ]
  },
  {
   "cell_type": "code",
   "execution_count": 47,
   "id": "66dfa70c",
   "metadata": {},
   "outputs": [],
   "source": [
    "# This will print out a URL, but it will take you to a 404 page\n",
    "#print(city_url)"
   ]
  },
  {
   "cell_type": "code",
   "execution_count": 48,
   "id": "c2ceca3e",
   "metadata": {},
   "outputs": [
    {
     "data": {
      "text/plain": [
       "{'coord': {'lon': -71.0598, 'lat': 42.3584},\n",
       " 'weather': [{'id': 804,\n",
       "   'main': 'Clouds',\n",
       "   'description': 'overcast clouds',\n",
       "   'icon': '04n'}],\n",
       " 'base': 'stations',\n",
       " 'main': {'temp': 34.02,\n",
       "  'feels_like': 28.63,\n",
       "  'temp_min': 29.01,\n",
       "  'temp_max': 37.63,\n",
       "  'pressure': 1015,\n",
       "  'humidity': 63},\n",
       " 'visibility': 10000,\n",
       " 'wind': {'speed': 5.99, 'deg': 335, 'gust': 15.99},\n",
       " 'clouds': {'all': 94},\n",
       " 'dt': 1643151395,\n",
       " 'sys': {'type': 2,\n",
       "  'id': 2013408,\n",
       "  'country': 'US',\n",
       "  'sunrise': 1643112259,\n",
       "  'sunset': 1643147313},\n",
       " 'timezone': -18000,\n",
       " 'id': 4930956,\n",
       " 'name': 'Boston',\n",
       " 'cod': 200}"
      ]
     },
     "execution_count": 48,
     "metadata": {},
     "output_type": "execute_result"
    }
   ],
   "source": [
    "# Create an endpoint URL for a city. (fixing Boston spelling from above)\n",
    "city_url = url + \"&q=\" + \"Boston\"\n",
    "city_weather = requests.get(city_url)\n",
    "city_weather.json()"
   ]
  },
  {
   "cell_type": "code",
   "execution_count": 49,
   "id": "da795273",
   "metadata": {},
   "outputs": [],
   "source": [
    "# Get the JSON data.\n",
    "boston_data = city_weather.json()"
   ]
  },
  {
   "cell_type": "code",
   "execution_count": 50,
   "id": "27ae9007",
   "metadata": {},
   "outputs": [
    {
     "data": {
      "text/plain": [
       "{'type': 2,\n",
       " 'id': 2013408,\n",
       " 'country': 'US',\n",
       " 'sunrise': 1643112259,\n",
       " 'sunset': 1643147313}"
      ]
     },
     "execution_count": 50,
     "metadata": {},
     "output_type": "execute_result"
    }
   ],
   "source": [
    "# Seeing the sys nestle dictionary info\n",
    "boston_data[\"sys\"]"
   ]
  },
  {
   "cell_type": "code",
   "execution_count": 51,
   "id": "a546da76",
   "metadata": {},
   "outputs": [
    {
     "data": {
      "text/plain": [
       "'US'"
      ]
     },
     "execution_count": 51,
     "metadata": {},
     "output_type": "execute_result"
    }
   ],
   "source": [
    "# Adding the country key\n",
    "boston_data[\"sys\"][\"country\"]"
   ]
  },
  {
   "cell_type": "code",
   "execution_count": 52,
   "id": "1fc429cf",
   "metadata": {},
   "outputs": [
    {
     "data": {
      "text/plain": [
       "1643151395"
      ]
     },
     "execution_count": 52,
     "metadata": {},
     "output_type": "execute_result"
    }
   ],
   "source": [
    "# Retreaving the date in a database timestamo format\n",
    "boston_data[\"dt\"]"
   ]
  },
  {
   "cell_type": "code",
   "execution_count": 53,
   "id": "bcfcec2a",
   "metadata": {},
   "outputs": [
    {
     "data": {
      "text/plain": [
       "42.3584"
      ]
     },
     "execution_count": 53,
     "metadata": {},
     "output_type": "execute_result"
    }
   ],
   "source": [
    "# pop quiz 6.2.5 Checking the latitude value\n",
    "boston_data[\"coord\"][\"lat\"]"
   ]
  },
  {
   "cell_type": "code",
   "execution_count": 54,
   "id": "8bb815bc",
   "metadata": {},
   "outputs": [
    {
     "data": {
      "text/plain": [
       "37.63"
      ]
     },
     "execution_count": 54,
     "metadata": {},
     "output_type": "execute_result"
    }
   ],
   "source": [
    "#pop quiz 6.2.5 Checking the maximum temperature\n",
    "boston_data[\"main\"][\"temp_max\"]"
   ]
  },
  {
   "cell_type": "code",
   "execution_count": 55,
   "id": "818cdc13",
   "metadata": {},
   "outputs": [
    {
     "name": "stdout",
     "output_type": "stream",
     "text": [
      "42.3584 -71.0598 37.63 63 94 5.99\n"
     ]
    }
   ],
   "source": [
    "lat = boston_data[\"coord\"][\"lat\"]\n",
    "lng = boston_data[\"coord\"][\"lon\"]\n",
    "max_temp = boston_data[\"main\"][\"temp_max\"]\n",
    "humidity = boston_data[\"main\"][\"humidity\"]\n",
    "clouds = boston_data[\"clouds\"][\"all\"]\n",
    "wind = boston_data[\"wind\"][\"speed\"]\n",
    "print(lat, lng, max_temp, humidity, clouds, wind)"
   ]
  },
  {
   "cell_type": "code",
   "execution_count": 56,
   "id": "3e1cbf4b",
   "metadata": {},
   "outputs": [
    {
     "data": {
      "text/plain": [
       "datetime.datetime(2022, 1, 25, 22, 56, 35)"
      ]
     },
     "execution_count": 56,
     "metadata": {},
     "output_type": "execute_result"
    }
   ],
   "source": [
    "# Import the datetime module from the datetime library.\n",
    "from datetime import datetime\n",
    "# Get the date from the JSON file.\n",
    "date = boston_data[\"dt\"]\n",
    "# Convert the UTC date to a date format with year, month, day, hours, minutes, and seconds.\n",
    "datetime.utcfromtimestamp(date)"
   ]
  },
  {
   "cell_type": "code",
   "execution_count": 57,
   "id": "09d2a5db",
   "metadata": {},
   "outputs": [
    {
     "data": {
      "text/plain": [
       "'2022-01-25 22:56:35'"
      ]
     },
     "execution_count": 57,
     "metadata": {},
     "output_type": "execute_result"
    }
   ],
   "source": [
    "# Converting datetime format\n",
    "datetime.utcfromtimestamp(date).strftime('%Y-%m-%d %H:%M:%S')"
   ]
  },
  {
   "cell_type": "code",
   "execution_count": 58,
   "id": "bfe5e63e",
   "metadata": {},
   "outputs": [
    {
     "data": {
      "text/plain": [
       "'2022-56-01/25/22 22:56:35'"
      ]
     },
     "execution_count": 58,
     "metadata": {},
     "output_type": "execute_result"
    }
   ],
   "source": [
    "datetime.utcfromtimestamp(date).strftime('%Y-%M-%D %H:%M:%S')"
   ]
  },
  {
   "cell_type": "code",
   "execution_count": 2,
   "id": "0a6c1db6",
   "metadata": {},
   "outputs": [],
   "source": [
    "# Import the time library and the datetime module from the datetime library \n",
    "import time\n",
    "from datetime import datetime\n",
    "\n",
    "# Import the requests library.\n",
    "import requests\n",
    "\n",
    "# Import the API key.\n",
    "from config import weather_api_key\n",
    "\n",
    "import random\n",
    "\n",
    "# Import the dependencies.\n",
    "import pandas as pd\n",
    "import matplotlib.pyplot as plt\n",
    "import numpy as np"
   ]
  },
  {
   "cell_type": "code",
   "execution_count": 3,
   "id": "2a8f573d",
   "metadata": {},
   "outputs": [
    {
     "data": {
      "text/plain": [
       "<zip at 0x20cc41812c8>"
      ]
     },
     "execution_count": 3,
     "metadata": {},
     "output_type": "execute_result"
    }
   ],
   "source": [
    "# Create a set of random latitude and longitude combinations.\n",
    "lats = np.random.uniform(low=-90.000, high=90.000, size=1500)\n",
    "lngs = np.random.uniform(low=-180.000, high=180.000, size=1500)\n",
    "lat_lngs = zip(lats, lngs)\n",
    "lat_lngs"
   ]
  },
  {
   "cell_type": "code",
   "execution_count": 4,
   "id": "73b626a7",
   "metadata": {},
   "outputs": [],
   "source": [
    "# Use the citipy module to determine city based on latitude and longitude.\n",
    "from citipy import citipy"
   ]
  },
  {
   "cell_type": "code",
   "execution_count": 5,
   "id": "6273563f",
   "metadata": {},
   "outputs": [
    {
     "data": {
      "text/plain": [
       "588"
      ]
     },
     "execution_count": 5,
     "metadata": {},
     "output_type": "execute_result"
    }
   ],
   "source": [
    "# Create a list for holding the cities.\n",
    "cities = []\n",
    "# Identify the nearest city for each latitude and longitude combination.\n",
    "for coordinate in lat_lngs:\n",
    "    city = citipy.nearest_city(coordinate[0], coordinate[1]).city_name\n",
    "\n",
    "    # If the city is unique, then we will add it to the cities list.\n",
    "    if city not in cities:\n",
    "        cities.append(city)\n",
    "# Print the city count to confirm sufficient count.\n",
    "len(cities)"
   ]
  },
  {
   "cell_type": "code",
   "execution_count": 6,
   "id": "9ec34f89",
   "metadata": {},
   "outputs": [],
   "source": [
    "# # Starting URL for Weather Map API Call.\n",
    "url = \"http://api.openweathermap.org/data/2.5/weather?units=Imperial&APPID=\" + weather_api_key"
   ]
  },
  {
   "cell_type": "code",
   "execution_count": 7,
   "id": "3b5f77e3",
   "metadata": {},
   "outputs": [
    {
     "name": "stdout",
     "output_type": "stream",
     "text": [
      "Beginning Data Retrieval     \n",
      "-----------------------------\n",
      "Processing Record 1 of Set 1 | cape town\n",
      "Processing Record 2 of Set 1 | nome\n",
      "Processing Record 3 of Set 1 | albany\n",
      "Processing Record 4 of Set 1 | hualmay\n",
      "Processing Record 5 of Set 1 | busselton\n",
      "Processing Record 6 of Set 1 | puerto ayora\n",
      "Processing Record 7 of Set 1 | belaya gora\n",
      "Processing Record 8 of Set 1 | perevoz\n",
      "Processing Record 9 of Set 1 | taolanaro\n",
      "City not found. Skipping...\n",
      "Processing Record 10 of Set 1 | saskylakh\n",
      "Processing Record 11 of Set 1 | chakwal\n",
      "Processing Record 12 of Set 1 | port elizabeth\n",
      "Processing Record 13 of Set 1 | vaini\n",
      "Processing Record 14 of Set 1 | stodolishche\n",
      "Processing Record 15 of Set 1 | dutse\n",
      "Processing Record 16 of Set 1 | dauphin\n",
      "Processing Record 17 of Set 1 | marcona\n",
      "City not found. Skipping...\n",
      "Processing Record 18 of Set 1 | rikitea\n",
      "Processing Record 19 of Set 1 | basco\n",
      "Processing Record 20 of Set 1 | dwarka\n",
      "Processing Record 21 of Set 1 | timbiqui\n",
      "Processing Record 22 of Set 1 | hithadhoo\n",
      "Processing Record 23 of Set 1 | illoqqortoormiut\n",
      "City not found. Skipping...\n",
      "Processing Record 24 of Set 1 | warqla\n",
      "City not found. Skipping...\n",
      "Processing Record 25 of Set 1 | ushuaia\n",
      "Processing Record 26 of Set 1 | esperance\n",
      "Processing Record 27 of Set 1 | tiksi\n",
      "Processing Record 28 of Set 1 | ponta do sol\n",
      "Processing Record 29 of Set 1 | barentsburg\n",
      "City not found. Skipping...\n",
      "Processing Record 30 of Set 1 | nikolskoye\n",
      "Processing Record 31 of Set 1 | torbay\n",
      "Processing Record 32 of Set 1 | castro\n",
      "Processing Record 33 of Set 1 | tiruchchendur\n",
      "Processing Record 34 of Set 1 | isangel\n",
      "Processing Record 35 of Set 1 | la cruz\n",
      "Processing Record 36 of Set 1 | berlevag\n",
      "Processing Record 37 of Set 1 | vestmannaeyjar\n",
      "Processing Record 38 of Set 1 | new norfolk\n",
      "Processing Record 39 of Set 1 | hobart\n",
      "Processing Record 40 of Set 1 | himatangi\n",
      "Processing Record 41 of Set 1 | hilo\n",
      "Processing Record 42 of Set 1 | upernavik\n",
      "Processing Record 43 of Set 1 | sitka\n",
      "Processing Record 44 of Set 1 | inongo\n",
      "Processing Record 45 of Set 1 | dalvik\n",
      "Processing Record 46 of Set 1 | saldanha\n",
      "Processing Record 47 of Set 1 | tidore\n",
      "City not found. Skipping...\n",
      "Processing Record 48 of Set 1 | hermanus\n",
      "Processing Record 49 of Set 1 | punta arenas\n",
      "Processing Record 50 of Set 1 | kruisfontein\n",
      "Processing Record 1 of Set 2 | panzhihua\n",
      "Processing Record 2 of Set 2 | padang\n",
      "Processing Record 3 of Set 2 | tsihombe\n",
      "City not found. Skipping...\n",
      "Processing Record 4 of Set 2 | wilmington\n",
      "Processing Record 5 of Set 2 | mahebourg\n",
      "Processing Record 6 of Set 2 | thompson\n",
      "Processing Record 7 of Set 2 | grand centre\n",
      "City not found. Skipping...\n",
      "Processing Record 8 of Set 2 | dingle\n",
      "Processing Record 9 of Set 2 | buala\n",
      "Processing Record 10 of Set 2 | luganville\n",
      "Processing Record 11 of Set 2 | mataura\n",
      "Processing Record 12 of Set 2 | ostrovnoy\n",
      "Processing Record 13 of Set 2 | sumbawa\n",
      "City not found. Skipping...\n",
      "Processing Record 14 of Set 2 | richards bay\n",
      "Processing Record 15 of Set 2 | flin flon\n",
      "Processing Record 16 of Set 2 | bredasdorp\n",
      "Processing Record 17 of Set 2 | luancheng\n",
      "Processing Record 18 of Set 2 | xudat\n",
      "Processing Record 19 of Set 2 | kapaa\n",
      "Processing Record 20 of Set 2 | ahuimanu\n",
      "Processing Record 21 of Set 2 | tahoua\n",
      "Processing Record 22 of Set 2 | klaksvik\n",
      "Processing Record 23 of Set 2 | saint-joseph\n",
      "Processing Record 24 of Set 2 | butaritari\n",
      "Processing Record 25 of Set 2 | blackwater\n",
      "Processing Record 26 of Set 2 | pevek\n",
      "Processing Record 27 of Set 2 | florencia\n",
      "Processing Record 28 of Set 2 | kaitangata\n",
      "Processing Record 29 of Set 2 | sataua\n",
      "City not found. Skipping...\n",
      "Processing Record 30 of Set 2 | shakawe\n",
      "Processing Record 31 of Set 2 | itaituba\n",
      "Processing Record 32 of Set 2 | port alfred\n",
      "Processing Record 33 of Set 2 | severo-kurilsk\n",
      "Processing Record 34 of Set 2 | yanchukan\n",
      "City not found. Skipping...\n",
      "Processing Record 35 of Set 2 | bluff\n",
      "Processing Record 36 of Set 2 | bethel\n",
      "Processing Record 37 of Set 2 | jibuti\n",
      "Processing Record 38 of Set 2 | cayenne\n",
      "Processing Record 39 of Set 2 | dikson\n",
      "Processing Record 40 of Set 2 | adrar\n",
      "Processing Record 41 of Set 2 | half moon bay\n",
      "Processing Record 42 of Set 2 | garmsar\n",
      "Processing Record 43 of Set 2 | talnakh\n",
      "Processing Record 44 of Set 2 | galgani\n",
      "City not found. Skipping...\n",
      "Processing Record 45 of Set 2 | seoul\n",
      "Processing Record 46 of Set 2 | maceio\n",
      "Processing Record 47 of Set 2 | rawson\n",
      "Processing Record 48 of Set 2 | northam\n",
      "Processing Record 49 of Set 2 | abu zabad\n",
      "Processing Record 50 of Set 2 | svetlogorsk\n",
      "Processing Record 1 of Set 3 | atuona\n",
      "Processing Record 2 of Set 3 | east london\n",
      "Processing Record 3 of Set 3 | kodiak\n",
      "Processing Record 4 of Set 3 | farkhor\n",
      "Processing Record 5 of Set 3 | provideniya\n",
      "Processing Record 6 of Set 3 | bukama\n",
      "Processing Record 7 of Set 3 | salalah\n",
      "Processing Record 8 of Set 3 | ewa beach\n",
      "Processing Record 9 of Set 3 | vila velha\n",
      "Processing Record 10 of Set 3 | carlagan\n",
      "Processing Record 11 of Set 3 | barrow\n",
      "Processing Record 12 of Set 3 | ko samui\n",
      "Processing Record 13 of Set 3 | jamestown\n",
      "Processing Record 14 of Set 3 | lebu\n",
      "Processing Record 15 of Set 3 | goderich\n",
      "Processing Record 16 of Set 3 | pueblo nuevo\n",
      "Processing Record 17 of Set 3 | biltine\n",
      "Processing Record 18 of Set 3 | hinche\n",
      "Processing Record 19 of Set 3 | okitipupa\n",
      "Processing Record 20 of Set 3 | margate\n",
      "Processing Record 21 of Set 3 | provost\n",
      "Processing Record 22 of Set 3 | vao\n",
      "Processing Record 23 of Set 3 | voskresenskoye\n",
      "Processing Record 24 of Set 3 | belushya guba\n",
      "City not found. Skipping...\n",
      "Processing Record 25 of Set 3 | kutum\n",
      "Processing Record 26 of Set 3 | nahan\n",
      "Processing Record 27 of Set 3 | matara\n",
      "Processing Record 28 of Set 3 | batagay-alyta\n",
      "Processing Record 29 of Set 3 | muros\n",
      "Processing Record 30 of Set 3 | saint george\n",
      "Processing Record 31 of Set 3 | ribeira grande\n",
      "Processing Record 32 of Set 3 | atambua\n",
      "Processing Record 33 of Set 3 | horqueta\n",
      "Processing Record 34 of Set 3 | la palma\n",
      "Processing Record 35 of Set 3 | fortuna\n",
      "Processing Record 36 of Set 3 | tuktoyaktuk\n",
      "Processing Record 37 of Set 3 | tuatapere\n",
      "Processing Record 38 of Set 3 | goianira\n",
      "Processing Record 39 of Set 3 | honiara\n",
      "Processing Record 40 of Set 3 | brae\n",
      "Processing Record 41 of Set 3 | merauke\n",
      "Processing Record 42 of Set 3 | praia da vitoria\n",
      "Processing Record 43 of Set 3 | olafsvik\n",
      "Processing Record 44 of Set 3 | cabo san lucas\n",
      "Processing Record 45 of Set 3 | yellowknife\n",
      "Processing Record 46 of Set 3 | belaya kholunitsa\n",
      "Processing Record 47 of Set 3 | avarua\n",
      "Processing Record 48 of Set 3 | bahawalnagar\n",
      "Processing Record 49 of Set 3 | harper\n",
      "Processing Record 50 of Set 3 | tasiilaq\n",
      "Processing Record 1 of Set 4 | grand gaube\n",
      "Processing Record 2 of Set 4 | klyuchi\n",
      "Processing Record 3 of Set 4 | opuwo\n",
      "Processing Record 4 of Set 4 | moose factory\n",
      "Processing Record 5 of Set 4 | cagliliog\n",
      "Processing Record 6 of Set 4 | narsaq\n",
      "Processing Record 7 of Set 4 | arcata\n",
      "Processing Record 8 of Set 4 | callaguip\n",
      "Processing Record 9 of Set 4 | khatanga\n",
      "Processing Record 10 of Set 4 | saleaula\n",
      "City not found. Skipping...\n",
      "Processing Record 11 of Set 4 | mar del plata\n",
      "Processing Record 12 of Set 4 | vidalia\n",
      "Processing Record 13 of Set 4 | faya\n",
      "Processing Record 14 of Set 4 | sabang\n",
      "Processing Record 15 of Set 4 | sorland\n",
      "Processing Record 16 of Set 4 | itarema\n",
      "Processing Record 17 of Set 4 | chernyshevskiy\n",
      "Processing Record 18 of Set 4 | prince rupert\n",
      "Processing Record 19 of Set 4 | saposoa\n",
      "Processing Record 20 of Set 4 | attawapiskat\n",
      "City not found. Skipping...\n",
      "Processing Record 21 of Set 4 | davila\n",
      "Processing Record 22 of Set 4 | santiago\n",
      "Processing Record 23 of Set 4 | leningradskiy\n",
      "Processing Record 24 of Set 4 | amderma\n",
      "City not found. Skipping...\n",
      "Processing Record 25 of Set 4 | arima\n",
      "Processing Record 26 of Set 4 | coquimbo\n",
      "Processing Record 27 of Set 4 | lata\n",
      "Processing Record 28 of Set 4 | weyburn\n",
      "Processing Record 29 of Set 4 | khor\n",
      "Processing Record 30 of Set 4 | roald\n",
      "Processing Record 31 of Set 4 | katsuura\n",
      "Processing Record 32 of Set 4 | paungde\n",
      "Processing Record 33 of Set 4 | qaanaaq\n",
      "Processing Record 34 of Set 4 | mana\n",
      "Processing Record 35 of Set 4 | longyearbyen\n",
      "Processing Record 36 of Set 4 | gat\n",
      "Processing Record 37 of Set 4 | vicosa\n",
      "Processing Record 38 of Set 4 | san carlos de bariloche\n"
     ]
    },
    {
     "name": "stdout",
     "output_type": "stream",
     "text": [
      "Processing Record 39 of Set 4 | emba\n",
      "Processing Record 40 of Set 4 | leh\n",
      "Processing Record 41 of Set 4 | lorengau\n",
      "Processing Record 42 of Set 4 | tigil\n",
      "Processing Record 43 of Set 4 | cap malheureux\n",
      "Processing Record 44 of Set 4 | kneza\n",
      "City not found. Skipping...\n",
      "Processing Record 45 of Set 4 | miandrivazo\n",
      "Processing Record 46 of Set 4 | carnarvon\n",
      "Processing Record 47 of Set 4 | rancagua\n",
      "Processing Record 48 of Set 4 | ust-ishim\n",
      "Processing Record 49 of Set 4 | kasongo-lunda\n",
      "Processing Record 50 of Set 4 | halalo\n",
      "City not found. Skipping...\n",
      "Processing Record 1 of Set 5 | kiama\n",
      "Processing Record 2 of Set 5 | petropavlovsk-kamchatskiy\n",
      "Processing Record 3 of Set 5 | hamilton\n",
      "Processing Record 4 of Set 5 | victoria\n",
      "Processing Record 5 of Set 5 | sayyan\n",
      "Processing Record 6 of Set 5 | ust-tsilma\n",
      "Processing Record 7 of Set 5 | bilma\n",
      "Processing Record 8 of Set 5 | haines junction\n",
      "Processing Record 9 of Set 5 | lyantonde\n",
      "Processing Record 10 of Set 5 | mahenge\n",
      "Processing Record 11 of Set 5 | araouane\n",
      "Processing Record 12 of Set 5 | bambous virieux\n",
      "Processing Record 13 of Set 5 | kangaatsiaq\n",
      "Processing Record 14 of Set 5 | bosaso\n",
      "Processing Record 15 of Set 5 | zarumilla\n",
      "Processing Record 16 of Set 5 | laguna\n",
      "Processing Record 17 of Set 5 | xining\n",
      "Processing Record 18 of Set 5 | tuensang\n",
      "Processing Record 19 of Set 5 | berbera\n",
      "Processing Record 20 of Set 5 | qaqortoq\n",
      "Processing Record 21 of Set 5 | skibbereen\n",
      "Processing Record 22 of Set 5 | kuche\n",
      "City not found. Skipping...\n",
      "Processing Record 23 of Set 5 | eregli\n",
      "Processing Record 24 of Set 5 | sibi\n",
      "Processing Record 25 of Set 5 | yumen\n",
      "Processing Record 26 of Set 5 | kavieng\n",
      "Processing Record 27 of Set 5 | bengkulu\n",
      "Processing Record 28 of Set 5 | rocha\n",
      "Processing Record 29 of Set 5 | san juan\n",
      "Processing Record 30 of Set 5 | chuy\n",
      "Processing Record 31 of Set 5 | marquette\n",
      "Processing Record 32 of Set 5 | norman wells\n",
      "Processing Record 33 of Set 5 | san patricio\n",
      "Processing Record 34 of Set 5 | prospect heights\n",
      "Processing Record 35 of Set 5 | georgetown\n",
      "Processing Record 36 of Set 5 | borovoy\n",
      "Processing Record 37 of Set 5 | nelson\n",
      "Processing Record 38 of Set 5 | nixa\n",
      "Processing Record 39 of Set 5 | santa isabel do rio negro\n",
      "Processing Record 40 of Set 5 | quelimane\n",
      "Processing Record 41 of Set 5 | capitan bado\n",
      "Processing Record 42 of Set 5 | porkhov\n",
      "Processing Record 43 of Set 5 | coihaique\n",
      "Processing Record 44 of Set 5 | mokhsogollokh\n",
      "Processing Record 45 of Set 5 | saryg-sep\n",
      "Processing Record 46 of Set 5 | chokurdakh\n",
      "Processing Record 47 of Set 5 | souillac\n",
      "Processing Record 48 of Set 5 | arraial do cabo\n",
      "Processing Record 49 of Set 5 | bathsheba\n",
      "Processing Record 50 of Set 5 | mys shmidta\n",
      "City not found. Skipping...\n",
      "Processing Record 1 of Set 6 | mirina\n",
      "City not found. Skipping...\n",
      "Processing Record 2 of Set 6 | sambava\n",
      "Processing Record 3 of Set 6 | tancanhuitz\n",
      "Processing Record 4 of Set 6 | santa fe\n",
      "Processing Record 5 of Set 6 | hirara\n",
      "Processing Record 6 of Set 6 | douentza\n",
      "Processing Record 7 of Set 6 | kahului\n",
      "Processing Record 8 of Set 6 | athni\n",
      "Processing Record 9 of Set 6 | grand river south east\n",
      "City not found. Skipping...\n",
      "Processing Record 10 of Set 6 | gizo\n",
      "Processing Record 11 of Set 6 | san cristobal\n",
      "Processing Record 12 of Set 6 | yandoon\n",
      "City not found. Skipping...\n",
      "Processing Record 13 of Set 6 | ramos arizpe\n",
      "Processing Record 14 of Set 6 | talcahuano\n",
      "Processing Record 15 of Set 6 | sorvag\n",
      "City not found. Skipping...\n",
      "Processing Record 16 of Set 6 | ojinaga\n",
      "Processing Record 17 of Set 6 | samarai\n",
      "Processing Record 18 of Set 6 | karamea\n",
      "City not found. Skipping...\n",
      "Processing Record 19 of Set 6 | goma\n",
      "Processing Record 20 of Set 6 | banning\n",
      "Processing Record 21 of Set 6 | keetmanshoop\n",
      "Processing Record 22 of Set 6 | saint-augustin\n",
      "Processing Record 23 of Set 6 | nanortalik\n",
      "Processing Record 24 of Set 6 | dorogobuzh\n",
      "Processing Record 25 of Set 6 | ixtapa\n",
      "Processing Record 26 of Set 6 | clyde river\n",
      "Processing Record 27 of Set 6 | kurilsk\n",
      "Processing Record 28 of Set 6 | port hardy\n",
      "Processing Record 29 of Set 6 | pocos de caldas\n",
      "Processing Record 30 of Set 6 | andenes\n",
      "Processing Record 31 of Set 6 | voyvozh\n",
      "Processing Record 32 of Set 6 | te anau\n",
      "Processing Record 33 of Set 6 | alofi\n",
      "Processing Record 34 of Set 6 | moron\n",
      "Processing Record 35 of Set 6 | namibe\n",
      "Processing Record 36 of Set 6 | gigmoto\n",
      "Processing Record 37 of Set 6 | pangnirtung\n",
      "Processing Record 38 of Set 6 | limon\n",
      "Processing Record 39 of Set 6 | umzimvubu\n",
      "City not found. Skipping...\n",
      "Processing Record 40 of Set 6 | inhambane\n",
      "Processing Record 41 of Set 6 | port keats\n",
      "Processing Record 42 of Set 6 | soure\n",
      "Processing Record 43 of Set 6 | ancud\n",
      "Processing Record 44 of Set 6 | nemuro\n",
      "Processing Record 45 of Set 6 | saint-philippe\n",
      "Processing Record 46 of Set 6 | luderitz\n",
      "Processing Record 47 of Set 6 | llanes\n",
      "Processing Record 48 of Set 6 | thilogne\n",
      "City not found. Skipping...\n",
      "Processing Record 49 of Set 6 | sao filipe\n",
      "Processing Record 50 of Set 6 | vila\n",
      "Processing Record 1 of Set 7 | viloco\n",
      "Processing Record 2 of Set 7 | meulaboh\n",
      "Processing Record 3 of Set 7 | broken hill\n",
      "Processing Record 4 of Set 7 | guarapari\n",
      "Processing Record 5 of Set 7 | shwebo\n",
      "Processing Record 6 of Set 7 | clovis\n",
      "Processing Record 7 of Set 7 | shenjiamen\n",
      "Processing Record 8 of Set 7 | nhulunbuy\n",
      "Processing Record 9 of Set 7 | namatanai\n",
      "Processing Record 10 of Set 7 | fontaine\n",
      "Processing Record 11 of Set 7 | husavik\n",
      "Processing Record 12 of Set 7 | basavana bagevadi\n",
      "Processing Record 13 of Set 7 | cherskiy\n",
      "Processing Record 14 of Set 7 | apricena\n",
      "Processing Record 15 of Set 7 | morgan city\n",
      "Processing Record 16 of Set 7 | los llanos de aridane\n",
      "Processing Record 17 of Set 7 | christchurch\n",
      "Processing Record 18 of Set 7 | barpathar\n",
      "Processing Record 19 of Set 7 | wladyslawowo\n",
      "Processing Record 20 of Set 7 | mehamn\n",
      "Processing Record 21 of Set 7 | cidreira\n",
      "Processing Record 22 of Set 7 | shitanjing\n",
      "Processing Record 23 of Set 7 | kahramanmaras\n",
      "Processing Record 24 of Set 7 | alice springs\n",
      "Processing Record 25 of Set 7 | tura\n",
      "Processing Record 26 of Set 7 | ushtobe\n",
      "Processing Record 27 of Set 7 | bataipora\n",
      "Processing Record 28 of Set 7 | kosovo polje\n",
      "Processing Record 29 of Set 7 | lavrentiya\n",
      "Processing Record 30 of Set 7 | encruzilhada do sul\n",
      "Processing Record 31 of Set 7 | high level\n",
      "Processing Record 32 of Set 7 | jiaonan\n",
      "Processing Record 33 of Set 7 | salamiyah\n",
      "Processing Record 34 of Set 7 | benghazi\n",
      "Processing Record 35 of Set 7 | lodja\n",
      "Processing Record 36 of Set 7 | sentyabrskiy\n",
      "City not found. Skipping...\n",
      "Processing Record 37 of Set 7 | srednekolymsk\n",
      "Processing Record 38 of Set 7 | airai\n",
      "Processing Record 39 of Set 7 | wewak\n",
      "Processing Record 40 of Set 7 | comodoro rivadavia\n",
      "Processing Record 41 of Set 7 | havre-saint-pierre\n",
      "Processing Record 42 of Set 7 | vagur\n",
      "Processing Record 43 of Set 7 | atar\n",
      "Processing Record 44 of Set 7 | poum\n",
      "Processing Record 45 of Set 7 | dzhusaly\n",
      "City not found. Skipping...\n",
      "Processing Record 46 of Set 7 | juneau\n",
      "Processing Record 47 of Set 7 | rio gallegos\n",
      "Processing Record 48 of Set 7 | geraldton\n",
      "Processing Record 49 of Set 7 | xifeng\n",
      "Processing Record 50 of Set 7 | genhe\n",
      "Processing Record 1 of Set 8 | krasnoselkup\n",
      "Processing Record 2 of Set 8 | zhanaozen\n",
      "Processing Record 3 of Set 8 | mahajanga\n",
      "Processing Record 4 of Set 8 | derzhavinsk\n",
      "Processing Record 5 of Set 8 | vardo\n",
      "Processing Record 6 of Set 8 | solnechnyy\n",
      "Processing Record 7 of Set 8 | jizan\n",
      "Processing Record 8 of Set 8 | westpunt\n",
      "City not found. Skipping...\n",
      "Processing Record 9 of Set 8 | jahrom\n",
      "City not found. Skipping...\n",
      "Processing Record 10 of Set 8 | kirakira\n",
      "Processing Record 11 of Set 8 | diapaga\n",
      "Processing Record 12 of Set 8 | sao joao da barra\n",
      "Processing Record 13 of Set 8 | baglan\n",
      "Processing Record 14 of Set 8 | saint-francois\n",
      "Processing Record 15 of Set 8 | deep river\n",
      "Processing Record 16 of Set 8 | tupaciguara\n",
      "Processing Record 17 of Set 8 | zhigansk\n",
      "Processing Record 18 of Set 8 | pavilosta\n",
      "Processing Record 19 of Set 8 | deshna\n",
      "City not found. Skipping...\n",
      "Processing Record 20 of Set 8 | drumnadrochit\n",
      "Processing Record 21 of Set 8 | codrington\n",
      "Processing Record 22 of Set 8 | popondetta\n",
      "Processing Record 23 of Set 8 | pareora\n",
      "Processing Record 24 of Set 8 | qinhuangdao\n"
     ]
    },
    {
     "name": "stdout",
     "output_type": "stream",
     "text": [
      "Processing Record 25 of Set 8 | sola\n",
      "Processing Record 26 of Set 8 | tumannyy\n",
      "City not found. Skipping...\n",
      "Processing Record 27 of Set 8 | lokachi\n",
      "Processing Record 28 of Set 8 | kloulklubed\n",
      "Processing Record 29 of Set 8 | pisco\n",
      "Processing Record 30 of Set 8 | totton\n",
      "Processing Record 31 of Set 8 | manta\n",
      "Processing Record 32 of Set 8 | nabire\n",
      "Processing Record 33 of Set 8 | duku\n",
      "Processing Record 34 of Set 8 | khovu-aksy\n",
      "Processing Record 35 of Set 8 | chikitigarh\n",
      "Processing Record 36 of Set 8 | baturaja\n",
      "Processing Record 37 of Set 8 | ambositra\n",
      "Processing Record 38 of Set 8 | caravelas\n",
      "Processing Record 39 of Set 8 | feijo\n",
      "Processing Record 40 of Set 8 | nesna\n",
      "Processing Record 41 of Set 8 | tilichiki\n",
      "Processing Record 42 of Set 8 | cabinda\n",
      "Processing Record 43 of Set 8 | hofn\n",
      "Processing Record 44 of Set 8 | cervo\n",
      "Processing Record 45 of Set 8 | flagstaff\n",
      "Processing Record 46 of Set 8 | teguldet\n",
      "Processing Record 47 of Set 8 | kedougou\n",
      "Processing Record 48 of Set 8 | necochea\n",
      "Processing Record 49 of Set 8 | lazaro cardenas\n",
      "Processing Record 50 of Set 8 | artyom\n",
      "Processing Record 1 of Set 9 | chom bung\n",
      "City not found. Skipping...\n",
      "Processing Record 2 of Set 9 | euclides da cunha\n",
      "Processing Record 3 of Set 9 | xanxere\n",
      "Processing Record 4 of Set 9 | ilulissat\n",
      "Processing Record 5 of Set 9 | yulara\n",
      "Processing Record 6 of Set 9 | palmer\n",
      "Processing Record 7 of Set 9 | zhengjiatun\n",
      "Processing Record 8 of Set 9 | mount isa\n",
      "Processing Record 9 of Set 9 | manokwari\n",
      "Processing Record 10 of Set 9 | lagoa\n",
      "Processing Record 11 of Set 9 | wlodawa\n",
      "Processing Record 12 of Set 9 | buraydah\n",
      "Processing Record 13 of Set 9 | haibowan\n",
      "City not found. Skipping...\n",
      "Processing Record 14 of Set 9 | voh\n",
      "Processing Record 15 of Set 9 | kaitong\n",
      "Processing Record 16 of Set 9 | touros\n",
      "Processing Record 17 of Set 9 | tabialan\n",
      "City not found. Skipping...\n",
      "Processing Record 18 of Set 9 | svetlyy\n",
      "Processing Record 19 of Set 9 | vaitupu\n",
      "City not found. Skipping...\n",
      "Processing Record 20 of Set 9 | lompoc\n",
      "Processing Record 21 of Set 9 | bambanglipuro\n",
      "Processing Record 22 of Set 9 | ruston\n",
      "Processing Record 23 of Set 9 | kropotkin\n",
      "Processing Record 24 of Set 9 | faanui\n",
      "Processing Record 25 of Set 9 | guane\n",
      "Processing Record 26 of Set 9 | nizhneyansk\n",
      "City not found. Skipping...\n",
      "Processing Record 27 of Set 9 | zalantun\n",
      "Processing Record 28 of Set 9 | bay roberts\n",
      "Processing Record 29 of Set 9 | avera\n",
      "Processing Record 30 of Set 9 | camacha\n",
      "Processing Record 31 of Set 9 | fairbanks\n",
      "Processing Record 32 of Set 9 | vrangel\n",
      "Processing Record 33 of Set 9 | mount gambier\n",
      "Processing Record 34 of Set 9 | kamenskoye\n",
      "City not found. Skipping...\n",
      "Processing Record 35 of Set 9 | kargasok\n",
      "Processing Record 36 of Set 9 | san rafael\n",
      "Processing Record 37 of Set 9 | cambridge\n",
      "Processing Record 38 of Set 9 | the valley\n",
      "Processing Record 39 of Set 9 | quatre cocos\n",
      "Processing Record 40 of Set 9 | anderson\n",
      "Processing Record 41 of Set 9 | henties bay\n",
      "Processing Record 42 of Set 9 | byron bay\n",
      "Processing Record 43 of Set 9 | kavaratti\n",
      "Processing Record 44 of Set 9 | yurla\n",
      "Processing Record 45 of Set 9 | pringsewu\n",
      "Processing Record 46 of Set 9 | mildura\n",
      "Processing Record 47 of Set 9 | koutsouras\n",
      "Processing Record 48 of Set 9 | aklavik\n",
      "Processing Record 49 of Set 9 | maniitsoq\n",
      "Processing Record 50 of Set 9 | lima\n",
      "Processing Record 1 of Set 10 | xingcheng\n",
      "Processing Record 2 of Set 10 | shieli\n",
      "Processing Record 3 of Set 10 | broome\n",
      "Processing Record 4 of Set 10 | soc trang\n",
      "Processing Record 5 of Set 10 | hasaki\n",
      "Processing Record 6 of Set 10 | nguiu\n",
      "City not found. Skipping...\n",
      "Processing Record 7 of Set 10 | simpang\n",
      "Processing Record 8 of Set 10 | nova olinda do norte\n",
      "Processing Record 9 of Set 10 | la crosse\n",
      "Processing Record 10 of Set 10 | hun\n",
      "Processing Record 11 of Set 10 | port blair\n",
      "Processing Record 12 of Set 10 | ampere\n",
      "Processing Record 13 of Set 10 | sorong\n",
      "Processing Record 14 of Set 10 | thinadhoo\n",
      "Processing Record 15 of Set 10 | black forest\n",
      "Processing Record 16 of Set 10 | azare\n",
      "Processing Record 17 of Set 10 | uyuni\n",
      "Processing Record 18 of Set 10 | mananara\n",
      "Processing Record 19 of Set 10 | puri\n",
      "Processing Record 20 of Set 10 | banikoara\n",
      "Processing Record 21 of Set 10 | lasa\n",
      "Processing Record 22 of Set 10 | xihua\n",
      "Processing Record 23 of Set 10 | chor\n",
      "Processing Record 24 of Set 10 | carutapera\n",
      "Processing Record 25 of Set 10 | kailua\n",
      "Processing Record 26 of Set 10 | santa maria\n",
      "Processing Record 27 of Set 10 | jutai\n",
      "Processing Record 28 of Set 10 | gorno-chuyskiy\n",
      "City not found. Skipping...\n",
      "Processing Record 29 of Set 10 | pacific grove\n",
      "Processing Record 30 of Set 10 | solenzo\n",
      "Processing Record 31 of Set 10 | mao\n",
      "Processing Record 32 of Set 10 | tabou\n",
      "Processing Record 33 of Set 10 | olga\n",
      "Processing Record 34 of Set 10 | beloha\n",
      "Processing Record 35 of Set 10 | rawannawi\n",
      "City not found. Skipping...\n",
      "Processing Record 36 of Set 10 | saint-georges\n",
      "Processing Record 37 of Set 10 | fevralsk\n",
      "City not found. Skipping...\n",
      "Processing Record 38 of Set 10 | bubaque\n",
      "Processing Record 39 of Set 10 | sandwick\n",
      "Processing Record 40 of Set 10 | ngunguru\n",
      "Processing Record 41 of Set 10 | central point\n",
      "Processing Record 42 of Set 10 | gombong\n",
      "Processing Record 43 of Set 10 | nalobikha\n",
      "Processing Record 44 of Set 10 | bolungarvik\n",
      "City not found. Skipping...\n",
      "Processing Record 45 of Set 10 | saint anthony\n",
      "Processing Record 46 of Set 10 | chinhoyi\n",
      "Processing Record 47 of Set 10 | owase\n",
      "Processing Record 48 of Set 10 | samalaeulu\n",
      "City not found. Skipping...\n",
      "Processing Record 49 of Set 10 | sokyryany\n",
      "Processing Record 50 of Set 10 | asau\n",
      "Processing Record 1 of Set 11 | constitucion\n",
      "Processing Record 2 of Set 11 | khani\n",
      "Processing Record 3 of Set 11 | kimbe\n",
      "Processing Record 4 of Set 11 | tahta\n",
      "Processing Record 5 of Set 11 | tessalit\n",
      "Processing Record 6 of Set 11 | takoradi\n",
      "Processing Record 7 of Set 11 | karratha\n",
      "Processing Record 8 of Set 11 | antiguo morelos\n",
      "Processing Record 9 of Set 11 | paris\n",
      "Processing Record 10 of Set 11 | guder\n",
      "Processing Record 11 of Set 11 | anqiu\n",
      "Processing Record 12 of Set 11 | kieta\n",
      "Processing Record 13 of Set 11 | huarmey\n",
      "Processing Record 14 of Set 11 | kirando\n",
      "Processing Record 15 of Set 11 | mitu\n",
      "Processing Record 16 of Set 11 | inverell\n",
      "Processing Record 17 of Set 11 | san nicolas\n",
      "Processing Record 18 of Set 11 | ardakan\n",
      "Processing Record 19 of Set 11 | pak phanang\n",
      "Processing Record 20 of Set 11 | mandiana\n",
      "Processing Record 21 of Set 11 | naze\n",
      "Processing Record 22 of Set 11 | gbadolite\n",
      "Processing Record 23 of Set 11 | wuzhou\n",
      "Processing Record 24 of Set 11 | huntsville\n",
      "Processing Record 25 of Set 11 | alta floresta\n",
      "Processing Record 26 of Set 11 | neyshabur\n",
      "Processing Record 27 of Set 11 | hami\n",
      "Processing Record 28 of Set 11 | jhinjhak\n",
      "Processing Record 29 of Set 11 | flinders\n",
      "Processing Record 30 of Set 11 | chapleau\n",
      "Processing Record 31 of Set 11 | ketchikan\n",
      "Processing Record 32 of Set 11 | tecoanapa\n",
      "Processing Record 33 of Set 11 | ulladulla\n",
      "Processing Record 34 of Set 11 | ust-kamchatsk\n",
      "City not found. Skipping...\n",
      "Processing Record 35 of Set 11 | ouro fino\n",
      "Processing Record 36 of Set 11 | nenjiang\n",
      "Processing Record 37 of Set 11 | jeremie\n",
      "Processing Record 38 of Set 11 | pemangkat\n",
      "Processing Record 39 of Set 11 | deputatskiy\n",
      "Processing Record 40 of Set 11 | praia\n",
      "Processing Record 41 of Set 11 | barbastro\n",
      "Processing Record 42 of Set 11 | casablanca\n",
      "Processing Record 43 of Set 11 | tautira\n",
      "Processing Record 44 of Set 11 | banmo\n",
      "City not found. Skipping...\n",
      "Processing Record 45 of Set 11 | horta\n",
      "Processing Record 46 of Set 11 | plastun\n",
      "Processing Record 47 of Set 11 | bud\n",
      "Processing Record 48 of Set 11 | babanka\n",
      "Processing Record 49 of Set 11 | camabatela\n",
      "Processing Record 50 of Set 11 | dabou\n",
      "Processing Record 1 of Set 12 | la rioja\n",
      "Processing Record 2 of Set 12 | gazli\n",
      "Processing Record 3 of Set 12 | gboko\n",
      "Processing Record 4 of Set 12 | zajecar\n",
      "Processing Record 5 of Set 12 | egvekinot\n",
      "Processing Record 6 of Set 12 | zhezkazgan\n",
      "Processing Record 7 of Set 12 | lolua\n",
      "City not found. Skipping...\n",
      "Processing Record 8 of Set 12 | katobu\n",
      "Processing Record 9 of Set 12 | olinda\n",
      "Processing Record 10 of Set 12 | kearney\n",
      "Processing Record 11 of Set 12 | port hedland\n",
      "Processing Record 12 of Set 12 | oga\n"
     ]
    },
    {
     "name": "stdout",
     "output_type": "stream",
     "text": [
      "Processing Record 13 of Set 12 | tiznit\n",
      "Processing Record 14 of Set 12 | maple creek\n",
      "Processing Record 15 of Set 12 | redlands\n",
      "Processing Record 16 of Set 12 | crateus\n",
      "Processing Record 17 of Set 12 | los andes\n",
      "Processing Record 18 of Set 12 | juba\n",
      "Processing Record 19 of Set 12 | felidhoo\n",
      "City not found. Skipping...\n",
      "Processing Record 20 of Set 12 | bargal\n",
      "City not found. Skipping...\n",
      "Processing Record 21 of Set 12 | kinablangan\n",
      "Processing Record 22 of Set 12 | sosnovo-ozerskoye\n",
      "Processing Record 23 of Set 12 | samokov\n",
      "Processing Record 24 of Set 12 | katherine\n",
      "Processing Record 25 of Set 12 | maldonado\n",
      "Processing Record 26 of Set 12 | dukat\n",
      "Processing Record 27 of Set 12 | plettenberg bay\n",
      "Processing Record 28 of Set 12 | caetite\n",
      "Processing Record 29 of Set 12 | hong gai\n",
      "Processing Record 30 of Set 12 | walvis bay\n",
      "Processing Record 31 of Set 12 | mirandopolis\n",
      "Processing Record 32 of Set 12 | paka\n",
      "Processing Record 33 of Set 12 | krabi\n",
      "Processing Record 34 of Set 12 | el faiyum\n",
      "City not found. Skipping...\n",
      "Processing Record 35 of Set 12 | tromso\n",
      "Processing Record 36 of Set 12 | mazagao\n",
      "Processing Record 37 of Set 12 | emerald\n",
      "Processing Record 38 of Set 12 | skjervoy\n",
      "-----------------------------\n",
      "Data Retrieval Complete      \n",
      "-----------------------------\n"
     ]
    }
   ],
   "source": [
    "# Create an empty list to hold the weather data.\n",
    "city_data = []\n",
    "\n",
    "# Print the beginning of the logging.\n",
    "print(\"Beginning Data Retrieval     \")\n",
    "print(\"-----------------------------\")\n",
    "\n",
    "# Create counters.\n",
    "record_count = 1\n",
    "set_count = 1\n",
    "\n",
    "# Loop through all the cities in the list.\n",
    "for i, city in enumerate(cities):\n",
    "\n",
    "    # Group cities in sets of 50 for logging purposes.\n",
    "    if (i % 50 == 0 and i >= 50):\n",
    "        set_count += 1\n",
    "        record_count = 1\n",
    "        time.sleep(60)\n",
    "\n",
    "    # Create endpoint URL with each city.\n",
    "    city_url = url + \"&q=\" + city.replace(\" \",\"+\")\n",
    "\n",
    "    # Log the URL, record, and set numbers and the city.\n",
    "    print(f\"Processing Record {record_count} of Set {set_count} | {city}\")\n",
    "    # Add 1 to the record count.\n",
    "    record_count += 1\n",
    "    \n",
    "# Run an API request for each of the cities.\n",
    "    try:\n",
    "        # Parse the JSON and retrieve data.\n",
    "        city_weather = requests.get(city_url).json()\n",
    "        # Parse out the needed data.\n",
    "        city_lat = city_weather[\"coord\"][\"lat\"]\n",
    "        city_lng = city_weather[\"coord\"][\"lon\"]\n",
    "        city_max_temp = city_weather[\"main\"][\"temp_max\"]\n",
    "        city_humidity = city_weather[\"main\"][\"humidity\"]\n",
    "        city_clouds = city_weather[\"clouds\"][\"all\"]\n",
    "        city_wind = city_weather[\"wind\"][\"speed\"]\n",
    "        city_country = city_weather[\"sys\"][\"country\"]\n",
    "        # Convert the date to ISO standard.\n",
    "        city_date = datetime.utcfromtimestamp(city_weather[\"dt\"]).strftime('%Y-%m-%d %H:%M:%S')\n",
    "        # Append the city information into city_data list.\n",
    "        city_data.append({\"City\": city.title(),\n",
    "                          \"Lat\": city_lat,\n",
    "                          \"Lng\": city_lng,\n",
    "                          \"Max Temp\": city_max_temp,\n",
    "                          \"Humidity\": city_humidity,\n",
    "                          \"Cloudiness\": city_clouds,\n",
    "                          \"Wind Speed\": city_wind,\n",
    "                          \"Country\": city_country,\n",
    "                          \"Date\": city_date})\n",
    "\n",
    "# If an error is experienced, skip the city.\n",
    "    except:\n",
    "        print(\"City not found. Skipping...\")\n",
    "        pass\n",
    "\n",
    "# Indicate that Data Loading is complete.\n",
    "print(\"-----------------------------\")\n",
    "print(\"Data Retrieval Complete      \")\n",
    "print(\"-----------------------------\")    "
   ]
  },
  {
   "cell_type": "code",
   "execution_count": 8,
   "id": "1f74d30b",
   "metadata": {},
   "outputs": [
    {
     "data": {
      "text/html": [
       "<div>\n",
       "<style scoped>\n",
       "    .dataframe tbody tr th:only-of-type {\n",
       "        vertical-align: middle;\n",
       "    }\n",
       "\n",
       "    .dataframe tbody tr th {\n",
       "        vertical-align: top;\n",
       "    }\n",
       "\n",
       "    .dataframe thead th {\n",
       "        text-align: right;\n",
       "    }\n",
       "</style>\n",
       "<table border=\"1\" class=\"dataframe\">\n",
       "  <thead>\n",
       "    <tr style=\"text-align: right;\">\n",
       "      <th></th>\n",
       "      <th>City</th>\n",
       "      <th>Lat</th>\n",
       "      <th>Lng</th>\n",
       "      <th>Max Temp</th>\n",
       "      <th>Humidity</th>\n",
       "      <th>Cloudiness</th>\n",
       "      <th>Wind Speed</th>\n",
       "      <th>Country</th>\n",
       "      <th>Date</th>\n",
       "    </tr>\n",
       "  </thead>\n",
       "  <tbody>\n",
       "    <tr>\n",
       "      <th>0</th>\n",
       "      <td>Cape Town</td>\n",
       "      <td>-33.9258</td>\n",
       "      <td>18.4232</td>\n",
       "      <td>70.21</td>\n",
       "      <td>78</td>\n",
       "      <td>20</td>\n",
       "      <td>5.99</td>\n",
       "      <td>ZA</td>\n",
       "      <td>2022-01-26 18:46:45</td>\n",
       "    </tr>\n",
       "    <tr>\n",
       "      <th>1</th>\n",
       "      <td>Nome</td>\n",
       "      <td>64.5011</td>\n",
       "      <td>-165.4064</td>\n",
       "      <td>-18.89</td>\n",
       "      <td>76</td>\n",
       "      <td>0</td>\n",
       "      <td>0.00</td>\n",
       "      <td>US</td>\n",
       "      <td>2022-01-26 18:50:17</td>\n",
       "    </tr>\n",
       "    <tr>\n",
       "      <th>2</th>\n",
       "      <td>Albany</td>\n",
       "      <td>42.6001</td>\n",
       "      <td>-73.9662</td>\n",
       "      <td>21.45</td>\n",
       "      <td>44</td>\n",
       "      <td>4</td>\n",
       "      <td>5.01</td>\n",
       "      <td>US</td>\n",
       "      <td>2022-01-26 18:49:12</td>\n",
       "    </tr>\n",
       "    <tr>\n",
       "      <th>3</th>\n",
       "      <td>Hualmay</td>\n",
       "      <td>-11.0964</td>\n",
       "      <td>-77.6139</td>\n",
       "      <td>75.67</td>\n",
       "      <td>72</td>\n",
       "      <td>61</td>\n",
       "      <td>11.45</td>\n",
       "      <td>PE</td>\n",
       "      <td>2022-01-26 18:51:23</td>\n",
       "    </tr>\n",
       "    <tr>\n",
       "      <th>4</th>\n",
       "      <td>Busselton</td>\n",
       "      <td>-33.6500</td>\n",
       "      <td>115.3333</td>\n",
       "      <td>57.94</td>\n",
       "      <td>88</td>\n",
       "      <td>16</td>\n",
       "      <td>11.25</td>\n",
       "      <td>AU</td>\n",
       "      <td>2022-01-26 18:51:24</td>\n",
       "    </tr>\n",
       "    <tr>\n",
       "      <th>5</th>\n",
       "      <td>Puerto Ayora</td>\n",
       "      <td>-0.7393</td>\n",
       "      <td>-90.3518</td>\n",
       "      <td>84.16</td>\n",
       "      <td>75</td>\n",
       "      <td>69</td>\n",
       "      <td>9.80</td>\n",
       "      <td>EC</td>\n",
       "      <td>2022-01-26 18:51:26</td>\n",
       "    </tr>\n",
       "    <tr>\n",
       "      <th>6</th>\n",
       "      <td>Belaya Gora</td>\n",
       "      <td>68.5333</td>\n",
       "      <td>146.4167</td>\n",
       "      <td>-38.90</td>\n",
       "      <td>100</td>\n",
       "      <td>51</td>\n",
       "      <td>5.68</td>\n",
       "      <td>RU</td>\n",
       "      <td>2022-01-26 18:51:27</td>\n",
       "    </tr>\n",
       "    <tr>\n",
       "      <th>7</th>\n",
       "      <td>Perevoz</td>\n",
       "      <td>55.5961</td>\n",
       "      <td>44.5446</td>\n",
       "      <td>4.93</td>\n",
       "      <td>98</td>\n",
       "      <td>94</td>\n",
       "      <td>4.14</td>\n",
       "      <td>RU</td>\n",
       "      <td>2022-01-26 18:51:29</td>\n",
       "    </tr>\n",
       "    <tr>\n",
       "      <th>8</th>\n",
       "      <td>Saskylakh</td>\n",
       "      <td>71.9167</td>\n",
       "      <td>114.0833</td>\n",
       "      <td>-2.97</td>\n",
       "      <td>87</td>\n",
       "      <td>84</td>\n",
       "      <td>6.38</td>\n",
       "      <td>RU</td>\n",
       "      <td>2022-01-26 18:51:30</td>\n",
       "    </tr>\n",
       "    <tr>\n",
       "      <th>9</th>\n",
       "      <td>Chakwal</td>\n",
       "      <td>32.9334</td>\n",
       "      <td>72.8585</td>\n",
       "      <td>45.16</td>\n",
       "      <td>36</td>\n",
       "      <td>0</td>\n",
       "      <td>2.89</td>\n",
       "      <td>PK</td>\n",
       "      <td>2022-01-26 18:51:32</td>\n",
       "    </tr>\n",
       "  </tbody>\n",
       "</table>\n",
       "</div>"
      ],
      "text/plain": [
       "           City      Lat       Lng  Max Temp  Humidity  Cloudiness  \\\n",
       "0     Cape Town -33.9258   18.4232     70.21        78          20   \n",
       "1          Nome  64.5011 -165.4064    -18.89        76           0   \n",
       "2        Albany  42.6001  -73.9662     21.45        44           4   \n",
       "3       Hualmay -11.0964  -77.6139     75.67        72          61   \n",
       "4     Busselton -33.6500  115.3333     57.94        88          16   \n",
       "5  Puerto Ayora  -0.7393  -90.3518     84.16        75          69   \n",
       "6   Belaya Gora  68.5333  146.4167    -38.90       100          51   \n",
       "7       Perevoz  55.5961   44.5446      4.93        98          94   \n",
       "8     Saskylakh  71.9167  114.0833     -2.97        87          84   \n",
       "9       Chakwal  32.9334   72.8585     45.16        36           0   \n",
       "\n",
       "   Wind Speed Country                 Date  \n",
       "0        5.99      ZA  2022-01-26 18:46:45  \n",
       "1        0.00      US  2022-01-26 18:50:17  \n",
       "2        5.01      US  2022-01-26 18:49:12  \n",
       "3       11.45      PE  2022-01-26 18:51:23  \n",
       "4       11.25      AU  2022-01-26 18:51:24  \n",
       "5        9.80      EC  2022-01-26 18:51:26  \n",
       "6        5.68      RU  2022-01-26 18:51:27  \n",
       "7        4.14      RU  2022-01-26 18:51:29  \n",
       "8        6.38      RU  2022-01-26 18:51:30  \n",
       "9        2.89      PK  2022-01-26 18:51:32  "
      ]
     },
     "execution_count": 8,
     "metadata": {},
     "output_type": "execute_result"
    }
   ],
   "source": [
    "# Convert the array of dictionaries to a Pandas DataFrame.\n",
    "city_data_df = pd.DataFrame(city_data)\n",
    "city_data_df.head(10)"
   ]
  },
  {
   "cell_type": "code",
   "execution_count": 14,
   "id": "1b35d4e9",
   "metadata": {},
   "outputs": [
    {
     "data": {
      "text/html": [
       "<div>\n",
       "<style scoped>\n",
       "    .dataframe tbody tr th:only-of-type {\n",
       "        vertical-align: middle;\n",
       "    }\n",
       "\n",
       "    .dataframe tbody tr th {\n",
       "        vertical-align: top;\n",
       "    }\n",
       "\n",
       "    .dataframe thead th {\n",
       "        text-align: right;\n",
       "    }\n",
       "</style>\n",
       "<table border=\"1\" class=\"dataframe\">\n",
       "  <thead>\n",
       "    <tr style=\"text-align: right;\">\n",
       "      <th></th>\n",
       "      <th>City</th>\n",
       "      <th>Country</th>\n",
       "      <th>Date</th>\n",
       "      <th>Lat</th>\n",
       "      <th>Lng</th>\n",
       "      <th>Max Temp</th>\n",
       "      <th>Humidity</th>\n",
       "      <th>Cloudiness</th>\n",
       "      <th>Wind Speed</th>\n",
       "    </tr>\n",
       "  </thead>\n",
       "  <tbody>\n",
       "    <tr>\n",
       "      <th>498</th>\n",
       "      <td>Plastun</td>\n",
       "      <td>RU</td>\n",
       "      <td>2022-01-26 19:13:04</td>\n",
       "      <td>44.7561</td>\n",
       "      <td>136.2939</td>\n",
       "      <td>12.15</td>\n",
       "      <td>73</td>\n",
       "      <td>100</td>\n",
       "      <td>10.00</td>\n",
       "    </tr>\n",
       "    <tr>\n",
       "      <th>432</th>\n",
       "      <td>Chor</td>\n",
       "      <td>PK</td>\n",
       "      <td>2022-01-26 19:10:33</td>\n",
       "      <td>25.5167</td>\n",
       "      <td>69.7667</td>\n",
       "      <td>60.91</td>\n",
       "      <td>17</td>\n",
       "      <td>0</td>\n",
       "      <td>6.40</td>\n",
       "    </tr>\n",
       "    <tr>\n",
       "      <th>272</th>\n",
       "      <td>Vila</td>\n",
       "      <td>PT</td>\n",
       "      <td>2022-01-26 19:02:52</td>\n",
       "      <td>42.0304</td>\n",
       "      <td>-8.1588</td>\n",
       "      <td>42.33</td>\n",
       "      <td>64</td>\n",
       "      <td>0</td>\n",
       "      <td>4.65</td>\n",
       "    </tr>\n",
       "    <tr>\n",
       "      <th>457</th>\n",
       "      <td>Kimbe</td>\n",
       "      <td>PG</td>\n",
       "      <td>2022-01-26 19:12:10</td>\n",
       "      <td>-5.5502</td>\n",
       "      <td>150.1429</td>\n",
       "      <td>76.68</td>\n",
       "      <td>93</td>\n",
       "      <td>99</td>\n",
       "      <td>1.90</td>\n",
       "    </tr>\n",
       "    <tr>\n",
       "      <th>99</th>\n",
       "      <td>Ko Samui</td>\n",
       "      <td>TH</td>\n",
       "      <td>2022-01-26 18:55:49</td>\n",
       "      <td>9.5357</td>\n",
       "      <td>99.9357</td>\n",
       "      <td>81.12</td>\n",
       "      <td>76</td>\n",
       "      <td>20</td>\n",
       "      <td>11.68</td>\n",
       "    </tr>\n",
       "  </tbody>\n",
       "</table>\n",
       "</div>"
      ],
      "text/plain": [
       "         City Country                 Date      Lat       Lng  Max Temp  \\\n",
       "498   Plastun      RU  2022-01-26 19:13:04  44.7561  136.2939     12.15   \n",
       "432      Chor      PK  2022-01-26 19:10:33  25.5167   69.7667     60.91   \n",
       "272      Vila      PT  2022-01-26 19:02:52  42.0304   -8.1588     42.33   \n",
       "457     Kimbe      PG  2022-01-26 19:12:10  -5.5502  150.1429     76.68   \n",
       "99   Ko Samui      TH  2022-01-26 18:55:49   9.5357   99.9357     81.12   \n",
       "\n",
       "     Humidity  Cloudiness  Wind Speed  \n",
       "498        73         100       10.00  \n",
       "432        17           0        6.40  \n",
       "272        64           0        4.65  \n",
       "457        93          99        1.90  \n",
       "99         76          20       11.68  "
      ]
     },
     "execution_count": 14,
     "metadata": {},
     "output_type": "execute_result"
    }
   ],
   "source": [
    "new_column_order = [\"City\", \"Country\", \"Date\", \"Lat\", \"Lng\", \"Max Temp\", \"Humidity\", \"Cloudiness\", \"Wind Speed\"]\n",
    "city_data_df = city_data_df[new_column_order]\n",
    "city_data_df.sample(5)"
   ]
  },
  {
   "cell_type": "code",
   "execution_count": 15,
   "id": "d15338d3",
   "metadata": {},
   "outputs": [],
   "source": [
    "# Create the output file (CSV).\n",
    "output_data_file = \"weather_data/cities.csv\"\n",
    "# Export the City_Data into a CSV.\n",
    "city_data_df.to_csv(output_data_file, index_label=\"City_ID\")"
   ]
  },
  {
   "cell_type": "code",
   "execution_count": 16,
   "id": "c6187f12",
   "metadata": {},
   "outputs": [],
   "source": [
    "# Extract relevant fields from the DataFrame for plotting.\n",
    "lats = city_data_df[\"Lat\"]\n",
    "max_temps = city_data_df[\"Max Temp\"]\n",
    "humidity = city_data_df[\"Humidity\"]\n",
    "cloudiness = city_data_df[\"Cloudiness\"]\n",
    "wind_speed = city_data_df[\"Wind Speed\"]"
   ]
  },
  {
   "cell_type": "code",
   "execution_count": 19,
   "id": "084cd49f",
   "metadata": {},
   "outputs": [
    {
     "data": {
      "text/plain": [
       "'01/26/22'"
      ]
     },
     "execution_count": 19,
     "metadata": {},
     "output_type": "execute_result"
    }
   ],
   "source": [
    "# Import the time module.\n",
    "import time\n",
    "# Get today's date in seconds.\n",
    "today = time.time()\n",
    "today = time.strftime(\"%x\")\n",
    "today"
   ]
  },
  {
   "cell_type": "code",
   "execution_count": null,
   "id": "30f49cda",
   "metadata": {},
   "outputs": [],
   "source": []
  }
 ],
 "metadata": {
  "kernelspec": {
   "display_name": "PythonData",
   "language": "python",
   "name": "pythondata"
  },
  "language_info": {
   "codemirror_mode": {
    "name": "ipython",
    "version": 3
   },
   "file_extension": ".py",
   "mimetype": "text/x-python",
   "name": "python",
   "nbconvert_exporter": "python",
   "pygments_lexer": "ipython3",
   "version": "3.7.11"
  }
 },
 "nbformat": 4,
 "nbformat_minor": 5
}
